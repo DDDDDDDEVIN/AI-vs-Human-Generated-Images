{
 "cells": [
  {
   "cell_type": "code",
   "execution_count": 26,
   "metadata": {},
   "outputs": [],
   "source": [
    "import tensorflow as tf\n",
    "import cv2\n",
    "import matplotlib.pyplot as plt\n",
    "import numpy as np\n",
    "import os\n",
    "import imghdr\n",
    "import pandas as pd"
   ]
  },
  {
   "cell_type": "code",
   "execution_count": 27,
   "metadata": {},
   "outputs": [],
   "source": [
    "data_dir = '../data'\n",
    "train_dir = 'train_data'\n",
    "test_dir = 'test_data_v2'"
   ]
  },
  {
   "cell_type": "code",
   "execution_count": 28,
   "metadata": {},
   "outputs": [],
   "source": [
    "image_exts = ['jpg', 'jpeg', 'bmp', 'png']"
   ]
  },
  {
   "cell_type": "markdown",
   "metadata": {},
   "source": [
    "### check dodgy data"
   ]
  },
  {
   "cell_type": "code",
   "execution_count": 30,
   "metadata": {},
   "outputs": [],
   "source": [
    "# check train dataset\n",
    "for class_name in ['AI', 'human']:\n",
    "    for image in os.listdir(os.path.join(data_dir, train_dir, class_name)):\n",
    "        image_path = os.path.join(data_dir, train_dir, class_name, image)\n",
    "        try:\n",
    "            img = cv2.imread(image_path)\n",
    "            tip = imghdr.what(image_path)\n",
    "            if tip not in image_exts:\n",
    "                print('Image not have a valid extension')\n",
    "        except Exception as e:\n",
    "            print('Issue with image {}'.format(image_path))\n"
   ]
  },
  {
   "cell_type": "code",
   "execution_count": 31,
   "metadata": {},
   "outputs": [],
   "source": [
    "# check test dataset\n",
    "for image in os.listdir(os.path.join(data_dir, test_dir)):\n",
    "    image_path = os.path.join(data_dir, test_dir, image)\n",
    "    try:\n",
    "        img = cv2.imread(image_path)\n",
    "        tip = imghdr.what(image_path)\n",
    "        if tip not in image_exts:\n",
    "            print('Image not have a valid extension')\n",
    "    except Exception as e:\n",
    "        print('Issue with image {}'.format(image_path))\n"
   ]
  },
  {
   "cell_type": "markdown",
   "metadata": {},
   "source": [
    "### load data"
   ]
  },
  {
   "cell_type": "code",
   "execution_count": 32,
   "metadata": {},
   "outputs": [
    {
     "name": "stdout",
     "output_type": "stream",
     "text": [
      "Found 79950 files belonging to 2 classes.\n"
     ]
    }
   ],
   "source": [
    "data = tf.keras.utils.image_dataset_from_directory(os.path.join(data_dir, train_dir))"
   ]
  }
 ],
 "metadata": {
  "kernelspec": {
   "display_name": "base",
   "language": "python",
   "name": "python3"
  },
  "language_info": {
   "codemirror_mode": {
    "name": "ipython",
    "version": 3
   },
   "file_extension": ".py",
   "mimetype": "text/x-python",
   "name": "python",
   "nbconvert_exporter": "python",
   "pygments_lexer": "ipython3",
   "version": "3.11.3"
  }
 },
 "nbformat": 4,
 "nbformat_minor": 2
}
