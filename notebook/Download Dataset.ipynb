{
 "cells": [
  {
   "cell_type": "code",
   "execution_count": 1,
   "metadata": {},
   "outputs": [
    {
     "name": "stderr",
     "output_type": "stream",
     "text": [
      "c:\\Users\\User\\anaconda3\\envs\\pt_gpu\\lib\\site-packages\\tqdm\\auto.py:21: TqdmWarning: IProgress not found. Please update jupyter and ipywidgets. See https://ipywidgets.readthedocs.io/en/stable/user_install.html\n",
      "  from .autonotebook import tqdm as notebook_tqdm\n"
     ]
    }
   ],
   "source": [
    "import kagglehub\n",
    "import os\n",
    "import shutil\n",
    "import pandas as pd\n",
    "import cv2\n",
    "import imghdr\n",
    "from PIL import Image\n",
    "from sklearn.model_selection import train_test_split"
   ]
  },
  {
   "cell_type": "markdown",
   "metadata": {},
   "source": [
    "### Download the dataset"
   ]
  },
  {
   "cell_type": "code",
   "execution_count": 2,
   "metadata": {},
   "outputs": [
    {
     "name": "stdout",
     "output_type": "stream",
     "text": [
      "Warning: Looks like you're using an outdated `kagglehub` version (installed: 0.3.7), please consider upgrading to the latest version (0.3.8).\n",
      "Downloading from https://www.kaggle.com/api/v1/datasets/download/alessandrasala79/ai-vs-human-generated-dataset?dataset_version_number=4...\n"
     ]
    },
    {
     "name": "stderr",
     "output_type": "stream",
     "text": [
      "100%|██████████| 9.76G/9.76G [26:30<00:00, 6.58MB/s]  "
     ]
    },
    {
     "name": "stdout",
     "output_type": "stream",
     "text": [
      "Extracting files...\n"
     ]
    },
    {
     "name": "stderr",
     "output_type": "stream",
     "text": [
      "\n"
     ]
    }
   ],
   "source": [
    "src_path = kagglehub.dataset_download(\"alessandrasala79/ai-vs-human-generated-dataset\")"
   ]
  },
  {
   "cell_type": "code",
   "execution_count": 3,
   "metadata": {},
   "outputs": [
    {
     "data": {
      "text/plain": [
       "'C:\\\\Users\\\\User\\\\.cache\\\\kagglehub\\\\datasets\\\\alessandrasala79\\\\ai-vs-human-generated-dataset\\\\versions\\\\4'"
      ]
     },
     "execution_count": 3,
     "metadata": {},
     "output_type": "execute_result"
    }
   ],
   "source": [
    "src_path"
   ]
  },
  {
   "cell_type": "code",
   "execution_count": 4,
   "metadata": {},
   "outputs": [],
   "source": [
    "destination_path = '../data'"
   ]
  },
  {
   "cell_type": "code",
   "execution_count": 5,
   "metadata": {},
   "outputs": [],
   "source": [
    "for file_name in os.listdir(src_path):\n",
    "    shutil.move(os.path.join(src_path, file_name), os.path.join(destination_path, file_name))"
   ]
  },
  {
   "cell_type": "markdown",
   "metadata": {},
   "source": [
    "### Split two classes"
   ]
  },
  {
   "cell_type": "code",
   "execution_count": 6,
   "metadata": {},
   "outputs": [],
   "source": [
    "train_val_df = pd.read_csv('../data/train.csv').drop(columns=['Unnamed: 0'])\n",
    "test_df = pd.read_csv('../data/test.csv')"
   ]
  },
  {
   "cell_type": "code",
   "execution_count": 7,
   "metadata": {},
   "outputs": [
    {
     "data": {
      "text/html": [
       "<div>\n",
       "<style scoped>\n",
       "    .dataframe tbody tr th:only-of-type {\n",
       "        vertical-align: middle;\n",
       "    }\n",
       "\n",
       "    .dataframe tbody tr th {\n",
       "        vertical-align: top;\n",
       "    }\n",
       "\n",
       "    .dataframe thead th {\n",
       "        text-align: right;\n",
       "    }\n",
       "</style>\n",
       "<table border=\"1\" class=\"dataframe\">\n",
       "  <thead>\n",
       "    <tr style=\"text-align: right;\">\n",
       "      <th></th>\n",
       "      <th>file_name</th>\n",
       "      <th>label</th>\n",
       "    </tr>\n",
       "  </thead>\n",
       "  <tbody>\n",
       "    <tr>\n",
       "      <th>0</th>\n",
       "      <td>train_data/a6dcb93f596a43249135678dfcfc17ea.jpg</td>\n",
       "      <td>1</td>\n",
       "    </tr>\n",
       "    <tr>\n",
       "      <th>1</th>\n",
       "      <td>train_data/041be3153810433ab146bc97d5af505c.jpg</td>\n",
       "      <td>0</td>\n",
       "    </tr>\n",
       "    <tr>\n",
       "      <th>2</th>\n",
       "      <td>train_data/615df26ce9494e5db2f70e57ce7a3a4f.jpg</td>\n",
       "      <td>1</td>\n",
       "    </tr>\n",
       "    <tr>\n",
       "      <th>3</th>\n",
       "      <td>train_data/8542fe161d9147be8e835e50c0de39cd.jpg</td>\n",
       "      <td>0</td>\n",
       "    </tr>\n",
       "    <tr>\n",
       "      <th>4</th>\n",
       "      <td>train_data/5d81fa12bc3b4cea8c94a6700a477cf2.jpg</td>\n",
       "      <td>1</td>\n",
       "    </tr>\n",
       "    <tr>\n",
       "      <th>...</th>\n",
       "      <td>...</td>\n",
       "      <td>...</td>\n",
       "    </tr>\n",
       "    <tr>\n",
       "      <th>79945</th>\n",
       "      <td>train_data/9283b107f6274279b6f15bbe77c523aa.jpg</td>\n",
       "      <td>0</td>\n",
       "    </tr>\n",
       "    <tr>\n",
       "      <th>79946</th>\n",
       "      <td>train_data/4c6b17fe6dd743428a45773135a10508.jpg</td>\n",
       "      <td>1</td>\n",
       "    </tr>\n",
       "    <tr>\n",
       "      <th>79947</th>\n",
       "      <td>train_data/1ccbf96d04e342fd9f629ad55466b29e.jpg</td>\n",
       "      <td>0</td>\n",
       "    </tr>\n",
       "    <tr>\n",
       "      <th>79948</th>\n",
       "      <td>train_data/ff960b55f296445abb3c5f304b52e104.jpg</td>\n",
       "      <td>1</td>\n",
       "    </tr>\n",
       "    <tr>\n",
       "      <th>79949</th>\n",
       "      <td>train_data/3abd1876472f4ec988aa78f76664fbd6.jpg</td>\n",
       "      <td>0</td>\n",
       "    </tr>\n",
       "  </tbody>\n",
       "</table>\n",
       "<p>79950 rows × 2 columns</p>\n",
       "</div>"
      ],
      "text/plain": [
       "                                             file_name  label\n",
       "0      train_data/a6dcb93f596a43249135678dfcfc17ea.jpg      1\n",
       "1      train_data/041be3153810433ab146bc97d5af505c.jpg      0\n",
       "2      train_data/615df26ce9494e5db2f70e57ce7a3a4f.jpg      1\n",
       "3      train_data/8542fe161d9147be8e835e50c0de39cd.jpg      0\n",
       "4      train_data/5d81fa12bc3b4cea8c94a6700a477cf2.jpg      1\n",
       "...                                                ...    ...\n",
       "79945  train_data/9283b107f6274279b6f15bbe77c523aa.jpg      0\n",
       "79946  train_data/4c6b17fe6dd743428a45773135a10508.jpg      1\n",
       "79947  train_data/1ccbf96d04e342fd9f629ad55466b29e.jpg      0\n",
       "79948  train_data/ff960b55f296445abb3c5f304b52e104.jpg      1\n",
       "79949  train_data/3abd1876472f4ec988aa78f76664fbd6.jpg      0\n",
       "\n",
       "[79950 rows x 2 columns]"
      ]
     },
     "execution_count": 7,
     "metadata": {},
     "output_type": "execute_result"
    }
   ],
   "source": [
    "train_val_df"
   ]
  },
  {
   "cell_type": "code",
   "execution_count": 8,
   "metadata": {},
   "outputs": [],
   "source": [
    "index_list = list(range(int(len(train_val_df) / 2)))\n",
    "train_index, val_index = train_test_split(index_list, test_size=0.2)"
   ]
  },
  {
   "cell_type": "code",
   "execution_count": 9,
   "metadata": {},
   "outputs": [],
   "source": [
    "train_AI_index = [x*2 for x in train_index] \n",
    "train_human_index = [x*2 + 1 for x in train_index]\n",
    "val_AI_index = [x*2 for x in val_index]\n",
    "val_human_index = [x*2 + 1 for x in val_index]"
   ]
  },
  {
   "cell_type": "code",
   "execution_count": 10,
   "metadata": {},
   "outputs": [],
   "source": [
    "train_AI_df = train_val_df.loc[train_AI_index]\n",
    "train_human_df = train_val_df.loc[train_human_index]\n",
    "val_AI_df = train_val_df.loc[val_AI_index]\n",
    "val_human_df = train_val_df.loc[val_human_index]"
   ]
  },
  {
   "cell_type": "code",
   "execution_count": 11,
   "metadata": {},
   "outputs": [],
   "source": [
    "for partition in ['train_data', 'val_data']:\n",
    "    for class_name in ['AI', 'human']:\n",
    "        os.makedirs(os.path.join(destination_path, partition, class_name), exist_ok=True)"
   ]
  },
  {
   "cell_type": "code",
   "execution_count": 12,
   "metadata": {},
   "outputs": [
    {
     "data": {
      "text/html": [
       "<div>\n",
       "<style scoped>\n",
       "    .dataframe tbody tr th:only-of-type {\n",
       "        vertical-align: middle;\n",
       "    }\n",
       "\n",
       "    .dataframe tbody tr th {\n",
       "        vertical-align: top;\n",
       "    }\n",
       "\n",
       "    .dataframe thead th {\n",
       "        text-align: right;\n",
       "    }\n",
       "</style>\n",
       "<table border=\"1\" class=\"dataframe\">\n",
       "  <thead>\n",
       "    <tr style=\"text-align: right;\">\n",
       "      <th></th>\n",
       "      <th>file_name</th>\n",
       "      <th>label</th>\n",
       "    </tr>\n",
       "  </thead>\n",
       "  <tbody>\n",
       "    <tr>\n",
       "      <th>41512</th>\n",
       "      <td>train_data/0331c4e303484437a366274a4741c7bf.jpg</td>\n",
       "      <td>1</td>\n",
       "    </tr>\n",
       "    <tr>\n",
       "      <th>35420</th>\n",
       "      <td>train_data/38cc54177091454b8d3005e6ad0208b8.jpg</td>\n",
       "      <td>1</td>\n",
       "    </tr>\n",
       "    <tr>\n",
       "      <th>50620</th>\n",
       "      <td>train_data/ee9554921cc546e697fc5f179b8dce03.jpg</td>\n",
       "      <td>1</td>\n",
       "    </tr>\n",
       "    <tr>\n",
       "      <th>70792</th>\n",
       "      <td>train_data/9ea500c70fd4439bb105ff5b7455ae54.jpg</td>\n",
       "      <td>1</td>\n",
       "    </tr>\n",
       "    <tr>\n",
       "      <th>62350</th>\n",
       "      <td>train_data/b4288e09db604b899bb14f76f7943346.jpg</td>\n",
       "      <td>1</td>\n",
       "    </tr>\n",
       "    <tr>\n",
       "      <th>...</th>\n",
       "      <td>...</td>\n",
       "      <td>...</td>\n",
       "    </tr>\n",
       "    <tr>\n",
       "      <th>3164</th>\n",
       "      <td>train_data/e676cdf69cfa4d2d8951e1706c938a6c.jpg</td>\n",
       "      <td>1</td>\n",
       "    </tr>\n",
       "    <tr>\n",
       "      <th>38396</th>\n",
       "      <td>train_data/1951540f0a744caca1d228a9a5236d02.jpg</td>\n",
       "      <td>1</td>\n",
       "    </tr>\n",
       "    <tr>\n",
       "      <th>15148</th>\n",
       "      <td>train_data/2561d687f3644b43a6a77911d7603279.jpg</td>\n",
       "      <td>1</td>\n",
       "    </tr>\n",
       "    <tr>\n",
       "      <th>31330</th>\n",
       "      <td>train_data/d0948e3ca7994b718f06be34a764eadb.jpg</td>\n",
       "      <td>1</td>\n",
       "    </tr>\n",
       "    <tr>\n",
       "      <th>3744</th>\n",
       "      <td>train_data/1b77b6a982584fdf862fead84e54de99.jpg</td>\n",
       "      <td>1</td>\n",
       "    </tr>\n",
       "  </tbody>\n",
       "</table>\n",
       "<p>31980 rows × 2 columns</p>\n",
       "</div>"
      ],
      "text/plain": [
       "                                             file_name  label\n",
       "41512  train_data/0331c4e303484437a366274a4741c7bf.jpg      1\n",
       "35420  train_data/38cc54177091454b8d3005e6ad0208b8.jpg      1\n",
       "50620  train_data/ee9554921cc546e697fc5f179b8dce03.jpg      1\n",
       "70792  train_data/9ea500c70fd4439bb105ff5b7455ae54.jpg      1\n",
       "62350  train_data/b4288e09db604b899bb14f76f7943346.jpg      1\n",
       "...                                                ...    ...\n",
       "3164   train_data/e676cdf69cfa4d2d8951e1706c938a6c.jpg      1\n",
       "38396  train_data/1951540f0a744caca1d228a9a5236d02.jpg      1\n",
       "15148  train_data/2561d687f3644b43a6a77911d7603279.jpg      1\n",
       "31330  train_data/d0948e3ca7994b718f06be34a764eadb.jpg      1\n",
       "3744   train_data/1b77b6a982584fdf862fead84e54de99.jpg      1\n",
       "\n",
       "[31980 rows x 2 columns]"
      ]
     },
     "execution_count": 12,
     "metadata": {},
     "output_type": "execute_result"
    }
   ],
   "source": [
    "train_AI_df"
   ]
  },
  {
   "cell_type": "code",
   "execution_count": 21,
   "metadata": {},
   "outputs": [],
   "source": [
    "# label 1 stands for AI-generated, 0 for human-generated\n",
    "\n",
    "for _,row in train_AI_df.iterrows():\n",
    "    file_path = row['file_name'][11:]\n",
    "    if os.path.exists(os.path.join('../data/train_data', file_path)):\n",
    "        shutil.move(os.path.join('../data/train_data', file_path), '../data/train_data/AI')\n",
    "        \n",
    "for _,row in train_human_df.iterrows():\n",
    "    file_path = row['file_name'][11:]\n",
    "    if os.path.exists(os.path.join('../data/train_data', file_path)):\n",
    "        shutil.move(os.path.join('../data/train_data', file_path), '../data/train_data/human')\n",
    "\n",
    "for _,row in val_AI_df.iterrows():\n",
    "    file_path = row['file_name'][11:]\n",
    "    if os.path.exists(os.path.join('../data/train_data', file_path)):\n",
    "        shutil.move(os.path.join('../data/train_data', file_path), '../data/val_data/AI')\n",
    "\n",
    "for _,row in val_human_df.iterrows():\n",
    "    file_path = row['file_name'][11:]\n",
    "    if os.path.exists(os.path.join('../data/train_data', file_path)):\n",
    "        shutil.move(os.path.join('../data/train_data', file_path), '../data/val_data/human')\n"
   ]
  },
  {
   "cell_type": "code",
   "execution_count": 22,
   "metadata": {},
   "outputs": [
    {
     "data": {
      "text/plain": [
       "2"
      ]
     },
     "execution_count": 22,
     "metadata": {},
     "output_type": "execute_result"
    }
   ],
   "source": [
    "len(os.listdir('../data/train_data'))"
   ]
  },
  {
   "cell_type": "markdown",
   "metadata": {},
   "source": [
    "### check dodgy data"
   ]
  },
  {
   "cell_type": "code",
   "execution_count": 74,
   "metadata": {},
   "outputs": [],
   "source": [
    "data_dir = '../data'\n",
    "train_dir = 'train_data'\n",
    "test_dir = 'test_data_v2'"
   ]
  },
  {
   "cell_type": "code",
   "execution_count": 75,
   "metadata": {},
   "outputs": [],
   "source": [
    "image_exts = ['jpg', 'jpeg', 'bmp', 'png']"
   ]
  },
  {
   "cell_type": "code",
   "execution_count": 77,
   "metadata": {},
   "outputs": [],
   "source": [
    "# check train dataset\n",
    "for partition in ['train_data', 'val_data']:\n",
    "    for class_name in ['AI', 'human']:\n",
    "        for image in os.listdir(os.path.join(data_dir, partition, class_name)):\n",
    "            image_path = os.path.join(data_dir, partition, class_name, image)\n",
    "            try:\n",
    "                img = cv2.imread(image_path)\n",
    "                tip = imghdr.what(image_path)\n",
    "                if tip not in image_exts:\n",
    "                    print('Image not have a valid extension')\n",
    "            except Exception as e:\n",
    "                print('Issue with image {}'.format(image_path))\n"
   ]
  },
  {
   "cell_type": "code",
   "execution_count": null,
   "metadata": {},
   "outputs": [],
   "source": [
    "# check test dataset\n",
    "for image in os.listdir(os.path.join(data_dir, test_dir)):\n",
    "    image_path = os.path.join(data_dir, test_dir, image)\n",
    "    try:\n",
    "        img = cv2.imread(image_path)\n",
    "        tip = imghdr.what(image_path)\n",
    "        if tip not in image_exts:\n",
    "            print('Image not have a valid extension')\n",
    "    except Exception as e:\n",
    "        print('Issue with image {}'.format(image_path))"
   ]
  },
  {
   "cell_type": "code",
   "execution_count": null,
   "metadata": {},
   "outputs": [],
   "source": [
    "tra"
   ]
  }
 ],
 "metadata": {
  "kernelspec": {
   "display_name": "pt_gpu",
   "language": "python",
   "name": "python3"
  },
  "language_info": {
   "codemirror_mode": {
    "name": "ipython",
    "version": 3
   },
   "file_extension": ".py",
   "mimetype": "text/x-python",
   "name": "python",
   "nbconvert_exporter": "python",
   "pygments_lexer": "ipython3",
   "version": "3.10.16"
  }
 },
 "nbformat": 4,
 "nbformat_minor": 2
}
